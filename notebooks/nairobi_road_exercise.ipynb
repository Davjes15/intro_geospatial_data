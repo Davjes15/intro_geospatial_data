{
 "cells": [
  {
   "cell_type": "code",
   "execution_count": 1,
   "id": "4c84a78e",
   "metadata": {},
   "outputs": [],
   "source": [
    "import geopandas as gpd\n",
    "import numpy as np\n",
    "import matplotlib.pyplot as plt\n",
    "import osmnx as ox\n",
    "from pathlib import Path\n",
    "from shapely.geometry import Point"
   ]
  },
  {
   "cell_type": "code",
   "execution_count": 2,
   "id": "17e9fb38",
   "metadata": {},
   "outputs": [],
   "source": [
    "# Download the Nairobi street network\n",
    "# from OpenStreetMap using OSMnx\n",
    "nairobi_graph = ox.graph_from_place(\"Nairobi, Kenya\", network_type=\"all\")"
   ]
  },
  {
   "cell_type": "code",
   "execution_count": 3,
   "id": "3d850caf",
   "metadata": {},
   "outputs": [
    {
     "data": {
      "text/plain": [
       "<networkx.classes.multidigraph.MultiDiGraph at 0x150217210>"
      ]
     },
     "execution_count": 3,
     "metadata": {},
     "output_type": "execute_result"
    }
   ],
   "source": [
    "nairobi_graph"
   ]
  },
  {
   "cell_type": "code",
   "execution_count": 4,
   "id": "75ac8b11",
   "metadata": {},
   "outputs": [
    {
     "data": {
      "text/plain": [
       "networkx.classes.multidigraph.MultiDiGraph"
      ]
     },
     "execution_count": 4,
     "metadata": {},
     "output_type": "execute_result"
    }
   ],
   "source": [
    "type(nairobi_graph)"
   ]
  },
  {
   "cell_type": "markdown",
   "id": "e19f4938",
   "metadata": {},
   "source": [
    "A graph data structure with directed, possibly multiple edgesâ€”ideal for modeling roads\n",
    "\n",
    "networkx: The Python library for graph theory and network analysis.\n",
    "MultiDiGraph = Multi + Directed + Graph\n",
    "- Graph\n",
    "A structure of nodes and edges (e.g., intersections and roads)\n",
    "- Directed\n",
    "Each edge has a direction (like a one-way street)\n",
    "- Multi\n",
    "You can have multiple edges between two nodes (e.g., two parallel roads)\n"
   ]
  },
  {
   "cell_type": "code",
   "execution_count": 5,
   "id": "ac454a65",
   "metadata": {},
   "outputs": [
    {
     "name": "stdout",
     "output_type": "stream",
     "text": [
      "Edge from 29780021 to 280701730 (key=0)\n",
      "{'osmid': 663223989, 'highway': 'secondary', 'name': 'Airport South Road', 'oneway': True, 'ref': 'B10E', 'reversed': False, 'length': np.float64(201.71277800907748), 'geometry': <LINESTRING (36.904 -1.347, 36.904 -1.347, 36.903 -1.347, 36.903 -1.347, 36....>}\n"
     ]
    }
   ],
   "source": [
    "# View one edge\n",
    "u, v, k, data = list(nairobi_graph.edges(keys=True, data=True))[0]\n",
    "print(f\"Edge from {u} to {v} (key={k})\")\n",
    "print(data)"
   ]
  },
  {
   "cell_type": "code",
   "execution_count": 6,
   "id": "f80c61b9",
   "metadata": {},
   "outputs": [],
   "source": [
    "# Convert the graph to a GeoDataFrame\n",
    "edges, nodes = ox.graph_to_gdfs(nairobi_graph)"
   ]
  },
  {
   "cell_type": "code",
   "execution_count": 7,
   "id": "58b10cb7",
   "metadata": {},
   "outputs": [
    {
     "data": {
      "text/plain": [
       "(geopandas.geodataframe.GeoDataFrame, geopandas.geodataframe.GeoDataFrame)"
      ]
     },
     "execution_count": 7,
     "metadata": {},
     "output_type": "execute_result"
    }
   ],
   "source": [
    "type(edges), type(nodes)"
   ]
  },
  {
   "cell_type": "code",
   "execution_count": 8,
   "id": "4c17e39a",
   "metadata": {},
   "outputs": [
    {
     "data": {
      "text/html": [
       "<div>\n",
       "<style scoped>\n",
       "    .dataframe tbody tr th:only-of-type {\n",
       "        vertical-align: middle;\n",
       "    }\n",
       "\n",
       "    .dataframe tbody tr th {\n",
       "        vertical-align: top;\n",
       "    }\n",
       "\n",
       "    .dataframe thead th {\n",
       "        text-align: right;\n",
       "    }\n",
       "</style>\n",
       "<table border=\"1\" class=\"dataframe\">\n",
       "  <thead>\n",
       "    <tr style=\"text-align: right;\">\n",
       "      <th></th>\n",
       "      <th>y</th>\n",
       "      <th>x</th>\n",
       "      <th>street_count</th>\n",
       "      <th>highway</th>\n",
       "      <th>ref</th>\n",
       "      <th>junction</th>\n",
       "      <th>railway</th>\n",
       "      <th>geometry</th>\n",
       "    </tr>\n",
       "    <tr>\n",
       "      <th>osmid</th>\n",
       "      <th></th>\n",
       "      <th></th>\n",
       "      <th></th>\n",
       "      <th></th>\n",
       "      <th></th>\n",
       "      <th></th>\n",
       "      <th></th>\n",
       "      <th></th>\n",
       "    </tr>\n",
       "  </thead>\n",
       "  <tbody>\n",
       "    <tr>\n",
       "      <th>29780021</th>\n",
       "      <td>-1.347361</td>\n",
       "      <td>36.903720</td>\n",
       "      <td>4</td>\n",
       "      <td>NaN</td>\n",
       "      <td>NaN</td>\n",
       "      <td>NaN</td>\n",
       "      <td>NaN</td>\n",
       "      <td>POINT (36.90372 -1.34736)</td>\n",
       "    </tr>\n",
       "    <tr>\n",
       "      <th>29780039</th>\n",
       "      <td>-1.344646</td>\n",
       "      <td>36.914422</td>\n",
       "      <td>3</td>\n",
       "      <td>NaN</td>\n",
       "      <td>NaN</td>\n",
       "      <td>NaN</td>\n",
       "      <td>NaN</td>\n",
       "      <td>POINT (36.91442 -1.34465)</td>\n",
       "    </tr>\n",
       "    <tr>\n",
       "      <th>29780051</th>\n",
       "      <td>-1.347919</td>\n",
       "      <td>36.909213</td>\n",
       "      <td>3</td>\n",
       "      <td>motorway_junction</td>\n",
       "      <td>23-D</td>\n",
       "      <td>NaN</td>\n",
       "      <td>NaN</td>\n",
       "      <td>POINT (36.90921 -1.34792)</td>\n",
       "    </tr>\n",
       "    <tr>\n",
       "      <th>30030168</th>\n",
       "      <td>-1.289755</td>\n",
       "      <td>36.798038</td>\n",
       "      <td>4</td>\n",
       "      <td>NaN</td>\n",
       "      <td>NaN</td>\n",
       "      <td>NaN</td>\n",
       "      <td>NaN</td>\n",
       "      <td>POINT (36.79804 -1.28975)</td>\n",
       "    </tr>\n",
       "    <tr>\n",
       "      <th>30030169</th>\n",
       "      <td>-1.290804</td>\n",
       "      <td>36.798552</td>\n",
       "      <td>3</td>\n",
       "      <td>NaN</td>\n",
       "      <td>NaN</td>\n",
       "      <td>NaN</td>\n",
       "      <td>NaN</td>\n",
       "      <td>POINT (36.79855 -1.2908)</td>\n",
       "    </tr>\n",
       "  </tbody>\n",
       "</table>\n",
       "</div>"
      ],
      "text/plain": [
       "                 y          x  street_count            highway   ref junction  \\\n",
       "osmid                                                                           \n",
       "29780021 -1.347361  36.903720             4                NaN   NaN      NaN   \n",
       "29780039 -1.344646  36.914422             3                NaN   NaN      NaN   \n",
       "29780051 -1.347919  36.909213             3  motorway_junction  23-D      NaN   \n",
       "30030168 -1.289755  36.798038             4                NaN   NaN      NaN   \n",
       "30030169 -1.290804  36.798552             3                NaN   NaN      NaN   \n",
       "\n",
       "         railway                   geometry  \n",
       "osmid                                        \n",
       "29780021     NaN  POINT (36.90372 -1.34736)  \n",
       "29780039     NaN  POINT (36.91442 -1.34465)  \n",
       "29780051     NaN  POINT (36.90921 -1.34792)  \n",
       "30030168     NaN  POINT (36.79804 -1.28975)  \n",
       "30030169     NaN   POINT (36.79855 -1.2908)  "
      ]
     },
     "execution_count": 8,
     "metadata": {},
     "output_type": "execute_result"
    }
   ],
   "source": [
    "edges.head()"
   ]
  },
  {
   "cell_type": "code",
   "execution_count": 9,
   "id": "20270b07",
   "metadata": {},
   "outputs": [
    {
     "data": {
      "text/plain": [
       "Index(['y', 'x', 'street_count', 'highway', 'ref', 'junction', 'railway',\n",
       "       'geometry'],\n",
       "      dtype='object')"
      ]
     },
     "execution_count": 9,
     "metadata": {},
     "output_type": "execute_result"
    }
   ],
   "source": [
    "edges.columns"
   ]
  },
  {
   "cell_type": "code",
   "execution_count": 10,
   "id": "fae36968",
   "metadata": {},
   "outputs": [
    {
     "data": {
      "text/plain": [
       "<Geographic 2D CRS: EPSG:4326>\n",
       "Name: WGS 84\n",
       "Axis Info [ellipsoidal]:\n",
       "- Lat[north]: Geodetic latitude (degree)\n",
       "- Lon[east]: Geodetic longitude (degree)\n",
       "Area of Use:\n",
       "- name: World.\n",
       "- bounds: (-180.0, -90.0, 180.0, 90.0)\n",
       "Datum: World Geodetic System 1984 ensemble\n",
       "- Ellipsoid: WGS 84\n",
       "- Prime Meridian: Greenwich"
      ]
     },
     "execution_count": 10,
     "metadata": {},
     "output_type": "execute_result"
    }
   ],
   "source": [
    "edges.crs"
   ]
  },
  {
   "cell_type": "code",
   "execution_count": 11,
   "id": "714b57a7",
   "metadata": {},
   "outputs": [
    {
     "data": {
      "image/png": "[encoded data removed]",
      "text/plain": [
       "<Figure size 1000x1000 with 1 Axes>"
      ]
     },
     "metadata": {},
     "output_type": "display_data"
    }
   ],
   "source": [
    "# Plot the street network\n",
    "edges.plot(figsize=(10, 10), linewidth=0.5, color=\"black\")\n",
    "plt.title(\"Nairobi Street Network\")\n",
    "plt.axis(\"equal\")\n",
    "plt.show()"
   ]
  },
  {
   "cell_type": "code",
   "execution_count": 12,
   "id": "0008758f",
   "metadata": {},
   "outputs": [
    {
     "name": "stderr",
     "output_type": "stream",
     "text": [
      "/var/folders/wn/5hltvcvs3qg_bl9q2vw70c9r0000gn/T/ipykernel_8176/3737016717.py:2: UserWarning: Column names longer than 10 characters will be truncated when saved to ESRI Shapefile.\n",
      "  edges.to_file(\"../data/nairobi_street_network.shp\")\n",
      "/Users/dquispe/Documents/repositories/intro_geospatial_data/.venv/lib/python3.11/site-packages/pyogrio/raw.py:723: RuntimeWarning: Normalized/laundered field name: 'street_count' to 'street_cou'\n",
      "  ogr_write(\n"
     ]
    }
   ],
   "source": [
    "# Save the street network to a shapefile\n",
    "edges.to_file(\"../data/nairobi_street_network.shp\")"
   ]
  },
  {
   "cell_type": "code",
   "execution_count": 13,
   "id": "a1144c40",
   "metadata": {},
   "outputs": [
    {
     "name": "stdout",
     "output_type": "stream",
     "text": [
      "Original CRS: epsg:4326\n"
     ]
    }
   ],
   "source": [
    "# Practice with CRS\n",
    "print(\"Original CRS:\", edges.crs)"
   ]
  },
  {
   "cell_type": "code",
   "execution_count": 15,
   "id": "cb8a3c80",
   "metadata": {},
   "outputs": [
    {
     "name": "stdout",
     "output_type": "stream",
     "text": [
      "Reprojected CRS: EPSG:32637\n"
     ]
    }
   ],
   "source": [
    "# Reproject to a different CRS\n",
    "nairobi_edges = edges.to_crs(epsg=32637)  # UTM zone 37N\n",
    "print(\"Reprojected CRS:\", nairobi_edges.crs)"
   ]
  },
  {
   "cell_type": "code",
   "execution_count": 16,
   "id": "cb518000",
   "metadata": {},
   "outputs": [
    {
     "name": "stderr",
     "output_type": "stream",
     "text": [
      "/var/folders/wn/5hltvcvs3qg_bl9q2vw70c9r0000gn/T/ipykernel_8176/1839469791.py:2: UserWarning: Column names longer than 10 characters will be truncated when saved to ESRI Shapefile.\n",
      "  nairobi_edges.to_file(\"../data/nairobi_street_network_reprojected_32637.shp\")\n",
      "/Users/dquispe/Documents/repositories/intro_geospatial_data/.venv/lib/python3.11/site-packages/pyogrio/raw.py:723: RuntimeWarning: Normalized/laundered field name: 'street_count' to 'street_cou'\n",
      "  ogr_write(\n"
     ]
    }
   ],
   "source": [
    "# saved to shapefile\n",
    "nairobi_edges.to_file(\"../data/nairobi_street_network_reprojected_32637.shp\")"
   ]
  },
  {
   "cell_type": "code",
   "execution_count": 24,
   "id": "2c4add8f",
   "metadata": {},
   "outputs": [
    {
     "name": "stderr",
     "output_type": "stream",
     "text": [
      "/var/folders/wn/5hltvcvs3qg_bl9q2vw70c9r0000gn/T/ipykernel_8176/2341992735.py:2: DeprecationWarning: The 'unary_union' attribute is deprecated, use the 'union_all()' method instead.\n",
      "  city_boundary = edges.unary_union.convex_hull\n"
     ]
    }
   ],
   "source": [
    "# Add a centroid and add a 3 km radius buffer\n",
    "city_boundary = edges.unary_union.convex_hull"
   ]
  },
  {
   "cell_type": "code",
   "execution_count": 25,
   "id": "dc66beb5",
   "metadata": {},
   "outputs": [
    {
     "data": {
      "text/plain": [
       "shapely.geometry.polygon.Polygon"
      ]
     },
     "execution_count": 25,
     "metadata": {},
     "output_type": "execute_result"
    }
   ],
   "source": [
    "type(city_boundary)"
   ]
  },
  {
   "cell_type": "code",
   "execution_count": 26,
   "id": "bc57c254",
   "metadata": {},
   "outputs": [],
   "source": [
    "# Create a centroid\n",
    "centroid = city_boundary.centroid"
   ]
  },
  {
   "cell_type": "code",
   "execution_count": 34,
   "id": "a4d18394",
   "metadata": {},
   "outputs": [
    {
     "name": "stdout",
     "output_type": "stream",
     "text": [
      "POINT (36.88988302424088 -1.295393050314882)\n"
     ]
    }
   ],
   "source": [
    "print(centroid)"
   ]
  },
  {
   "cell_type": "code",
   "execution_count": 28,
   "id": "720b29b8",
   "metadata": {},
   "outputs": [
    {
     "data": {
      "text/plain": [
       "shapely.geometry.point.Point"
      ]
     },
     "execution_count": 28,
     "metadata": {},
     "output_type": "execute_result"
    }
   ],
   "source": [
    "type(centroid)"
   ]
  },
  {
   "cell_type": "code",
   "execution_count": 33,
   "id": "6b77d5a1",
   "metadata": {},
   "outputs": [
    {
     "data": {
      "image/svg+xml": [
       "<svg xmlns=\"http://www.w3.org/2000/svg\" xmlns:xlink=\"http://www.w3.org/1999/xlink\" width=\"100.0\" height=\"100.0\" viewBox=\"35.88988302424088 -2.295393050314882 2.0 1.9999999999999998\" preserveAspectRatio=\"xMinYMin meet\"><g transform=\"matrix(1,0,0,-1,0,-2.5907861006297637)\"><circle cx=\"36.88988302424088\" cy=\"-1.295393050314882\" r=\"0.06\" stroke=\"#555555\" stroke-width=\"0.02\" fill=\"#66cc99\" opacity=\"0.6\" /></g></svg>"
      ],
      "text/plain": [
       "<POINT (36.89 -1.295)>"
      ]
     },
     "execution_count": 33,
     "metadata": {},
     "output_type": "execute_result"
    }
   ],
   "source": [
    "centroid"
   ]
  },
  {
   "cell_type": "code",
   "execution_count": 29,
   "id": "bf3402a2",
   "metadata": {},
   "outputs": [
    {
     "data": {
      "image/svg+xml": [
       "<svg xmlns=\"http://www.w3.org/2000/svg\" xmlns:xlink=\"http://www.w3.org/1999/xlink\" width=\"300\" height=\"300\" viewBox=\"-3203.110116975759 -3241.295393050315 6480.0 6480.0\" preserveAspectRatio=\"xMinYMin meet\"><g transform=\"matrix(1,0,0,-1,0,-2.5907861006298845)\"><path fill-rule=\"evenodd\" fill=\"#66cc99\" stroke=\"#555555\" stroke-width=\"43.2\" opacity=\"0.6\" d=\"M 3036.889883024241,-1.295393050314882 L 3022.4440630408317,-295.3468140389967 L 2979.2457242339324,-586.5663590986995 L 2907.7108902208674,-872.1494248137018 L 2808.5284805581014,-1149.3456901455843 L 2682.653676069306,-1415.4856035283078 L 2531.298719931877,-1668.0060921091215 L 2355.921243112452,-1904.4752455412513 L 2158.210226583884,-2122.6157366099574 L 1940.0697355151772,-2320.326753138526 L 1703.6005820830476,-2495.7042299579507 L 1451.0800935022341,-2647.0591860953796 L 1184.9401801195104,-2772.9339905841753 L 907.7439147876279,-2872.1164002469413 L 622.160849072626,-2943.6512342600063 L 330.9413040129232,-2986.8495730669056 L 36.88988302424088,-3001.295393050315 L -257.16153796444104,-2986.8495730669056 L -548.3810830241437,-2943.6512342600063 L -833.9641487391456,-2872.116400246942 L -1111.1604140710283,-2772.9339905841753 L -1377.3003274537523,-2647.05918609538 L -1629.820816034565,-2495.704229957951 L -1866.2899694666953,-2320.3267531385263 L -2084.4304605354014,-2122.615736609958 L -2282.14147706397,-1904.4752455412513 L -2457.518953883395,-1668.0060921091215 L -2608.8739100208236,-1415.4856035283085 L -2734.7487145096193,-1149.3456901455845 L -2833.9311241723854,-872.149424813702 L -2905.4659581854503,-586.5663590987007 L -2948.6642969923496,-295.34681403899737 L -2963.110116975759,-1.295393050314882 L -2948.6642969923496,292.75602793836686 L -2905.4659581854503,583.9755729980702 L -2833.931124172386,869.5586387130714 L -2734.7487145096197,1146.7549040449542 L -2608.873910020824,1412.894817427678 L -2457.518953883395,1665.415306008491 L -2282.1414770639703,1901.884459440621 L -2084.430460535402,2120.0249505093275 L -1866.2899694666967,2317.735967037895 L -1629.8208160345657,2493.113443857321 L -1377.300327453753,2644.4683999947497 L -1111.1604140710301,2770.3432044835445 L -833.9641487391464,2869.5256141463115 L -548.381083024145,2941.060448159376 L -257.16153796444047,2984.2587869662757 L 36.88988302424088,2998.704606949685 L 330.94130401292114,2984.2587869662757 L 622.1608490726259,2941.0604481593764 L 907.7439147876271,2869.525614146312 L 1184.9401801195108,2770.343204483545 L 1451.0800935022335,2644.46839999475 L 1703.6005820830464,2493.1134438573213 L 1940.0697355151776,2317.7359670378955 L 2158.210226583883,2120.024950509328 L 2355.921243112451,1901.8844594406228 L 2531.298719931877,1665.4153060084916 L 2682.6536760693057,1412.894817427679 L 2808.5284805581005,1146.7549040449562 L 2907.7108902208674,869.5586387130727 L 2979.245724233932,583.9755729980714 L 3022.4440630408317,292.7560279383666 L 3036.889883024241,-1.295393050314882 z\" /></g></svg>"
      ],
      "text/plain": [
       "<POLYGON ((3036.89 -1.295, 3022.444 -295.347, 2979.246 -586.566, 2907.711 -8...>"
      ]
     },
     "execution_count": 29,
     "metadata": {},
     "output_type": "execute_result"
    }
   ],
   "source": [
    "# Create a buffer around the centroid\n",
    "buffer = centroid.buffer(3000)  # 3 km buffer\n",
    "buffer"
   ]
  },
  {
   "cell_type": "code",
   "execution_count": 30,
   "id": "379f4832",
   "metadata": {},
   "outputs": [
    {
     "data": {
      "text/plain": [
       "shapely.geometry.polygon.Polygon"
      ]
     },
     "execution_count": 30,
     "metadata": {},
     "output_type": "execute_result"
    }
   ],
   "source": [
    "type(buffer)"
   ]
  },
  {
   "cell_type": "code",
   "execution_count": 31,
   "id": "13a3f229",
   "metadata": {},
   "outputs": [],
   "source": [
    "gdf_centroid = gpd.GeoDataFrame(geometry=[centroid], crs=edges.crs)"
   ]
  },
  {
   "cell_type": "code",
   "execution_count": 32,
   "id": "6d20af55",
   "metadata": {},
   "outputs": [
    {
     "data": {
      "text/html": [
       "<div>\n",
       "<style scoped>\n",
       "    .dataframe tbody tr th:only-of-type {\n",
       "        vertical-align: middle;\n",
       "    }\n",
       "\n",
       "    .dataframe tbody tr th {\n",
       "        vertical-align: top;\n",
       "    }\n",
       "\n",
       "    .dataframe thead th {\n",
       "        text-align: right;\n",
       "    }\n",
       "</style>\n",
       "<table border=\"1\" class=\"dataframe\">\n",
       "  <thead>\n",
       "    <tr style=\"text-align: right;\">\n",
       "      <th></th>\n",
       "      <th>geometry</th>\n",
       "    </tr>\n",
       "  </thead>\n",
       "  <tbody>\n",
       "    <tr>\n",
       "      <th>0</th>\n",
       "      <td>POINT (36.88988 -1.29539)</td>\n",
       "    </tr>\n",
       "  </tbody>\n",
       "</table>\n",
       "</div>"
      ],
      "text/plain": [
       "                    geometry\n",
       "0  POINT (36.88988 -1.29539)"
      ]
     },
     "execution_count": 32,
     "metadata": {},
     "output_type": "execute_result"
    }
   ],
   "source": [
    "gdf_centroid"
   ]
  },
  {
   "cell_type": "code",
   "execution_count": 35,
   "id": "44630ff4",
   "metadata": {},
   "outputs": [],
   "source": [
    "gdf_buffer = gpd.GeoDataFrame(geometry=[buffer], crs=edges.crs)"
   ]
  },
  {
   "cell_type": "code",
   "execution_count": 36,
   "id": "c79b7325",
   "metadata": {},
   "outputs": [
    {
     "data": {
      "text/html": [
       "<div>\n",
       "<style scoped>\n",
       "    .dataframe tbody tr th:only-of-type {\n",
       "        vertical-align: middle;\n",
       "    }\n",
       "\n",
       "    .dataframe tbody tr th {\n",
       "        vertical-align: top;\n",
       "    }\n",
       "\n",
       "    .dataframe thead th {\n",
       "        text-align: right;\n",
       "    }\n",
       "</style>\n",
       "<table border=\"1\" class=\"dataframe\">\n",
       "  <thead>\n",
       "    <tr style=\"text-align: right;\">\n",
       "      <th></th>\n",
       "      <th>geometry</th>\n",
       "    </tr>\n",
       "  </thead>\n",
       "  <tbody>\n",
       "    <tr>\n",
       "      <th>0</th>\n",
       "      <td>POLYGON ((3036.88988 -1.29539, 3022.44406 -295...</td>\n",
       "    </tr>\n",
       "  </tbody>\n",
       "</table>\n",
       "</div>"
      ],
      "text/plain": [
       "                                            geometry\n",
       "0  POLYGON ((3036.88988 -1.29539, 3022.44406 -295..."
      ]
     },
     "execution_count": 36,
     "metadata": {},
     "output_type": "execute_result"
    }
   ],
   "source": [
    "gdf_buffer"
   ]
  },
  {
   "cell_type": "code",
   "execution_count": 39,
   "id": "60821649",
   "metadata": {},
   "outputs": [
    {
     "data": {
      "text/html": [
       "<div>\n",
       "<style scoped>\n",
       "    .dataframe tbody tr th:only-of-type {\n",
       "        vertical-align: middle;\n",
       "    }\n",
       "\n",
       "    .dataframe tbody tr th {\n",
       "        vertical-align: top;\n",
       "    }\n",
       "\n",
       "    .dataframe thead th {\n",
       "        text-align: right;\n",
       "    }\n",
       "</style>\n",
       "<table border=\"1\" class=\"dataframe\">\n",
       "  <thead>\n",
       "    <tr style=\"text-align: right;\">\n",
       "      <th></th>\n",
       "      <th>y</th>\n",
       "      <th>x</th>\n",
       "      <th>street_count</th>\n",
       "      <th>highway</th>\n",
       "      <th>ref</th>\n",
       "      <th>junction</th>\n",
       "      <th>railway</th>\n",
       "      <th>geometry</th>\n",
       "    </tr>\n",
       "    <tr>\n",
       "      <th>osmid</th>\n",
       "      <th></th>\n",
       "      <th></th>\n",
       "      <th></th>\n",
       "      <th></th>\n",
       "      <th></th>\n",
       "      <th></th>\n",
       "      <th></th>\n",
       "      <th></th>\n",
       "    </tr>\n",
       "  </thead>\n",
       "  <tbody>\n",
       "    <tr>\n",
       "      <th>29780021</th>\n",
       "      <td>-1.347361</td>\n",
       "      <td>36.903720</td>\n",
       "      <td>4</td>\n",
       "      <td>NaN</td>\n",
       "      <td>NaN</td>\n",
       "      <td>NaN</td>\n",
       "      <td>NaN</td>\n",
       "      <td>POINT (36.90372 -1.34736)</td>\n",
       "    </tr>\n",
       "    <tr>\n",
       "      <th>29780039</th>\n",
       "      <td>-1.344646</td>\n",
       "      <td>36.914422</td>\n",
       "      <td>3</td>\n",
       "      <td>NaN</td>\n",
       "      <td>NaN</td>\n",
       "      <td>NaN</td>\n",
       "      <td>NaN</td>\n",
       "      <td>POINT (36.91442 -1.34465)</td>\n",
       "    </tr>\n",
       "    <tr>\n",
       "      <th>29780051</th>\n",
       "      <td>-1.347919</td>\n",
       "      <td>36.909213</td>\n",
       "      <td>3</td>\n",
       "      <td>motorway_junction</td>\n",
       "      <td>23-D</td>\n",
       "      <td>NaN</td>\n",
       "      <td>NaN</td>\n",
       "      <td>POINT (36.90921 -1.34792)</td>\n",
       "    </tr>\n",
       "    <tr>\n",
       "      <th>30030168</th>\n",
       "      <td>-1.289755</td>\n",
       "      <td>36.798038</td>\n",
       "      <td>4</td>\n",
       "      <td>NaN</td>\n",
       "      <td>NaN</td>\n",
       "      <td>NaN</td>\n",
       "      <td>NaN</td>\n",
       "      <td>POINT (36.79804 -1.28975)</td>\n",
       "    </tr>\n",
       "    <tr>\n",
       "      <th>30030169</th>\n",
       "      <td>-1.290804</td>\n",
       "      <td>36.798552</td>\n",
       "      <td>3</td>\n",
       "      <td>NaN</td>\n",
       "      <td>NaN</td>\n",
       "      <td>NaN</td>\n",
       "      <td>NaN</td>\n",
       "      <td>POINT (36.79855 -1.2908)</td>\n",
       "    </tr>\n",
       "    <tr>\n",
       "      <th>...</th>\n",
       "      <td>...</td>\n",
       "      <td>...</td>\n",
       "      <td>...</td>\n",
       "      <td>...</td>\n",
       "      <td>...</td>\n",
       "      <td>...</td>\n",
       "      <td>...</td>\n",
       "      <td>...</td>\n",
       "    </tr>\n",
       "    <tr>\n",
       "      <th>12740081569</th>\n",
       "      <td>-1.264256</td>\n",
       "      <td>36.820245</td>\n",
       "      <td>1</td>\n",
       "      <td>NaN</td>\n",
       "      <td>NaN</td>\n",
       "      <td>NaN</td>\n",
       "      <td>NaN</td>\n",
       "      <td>POINT (36.82025 -1.26426)</td>\n",
       "    </tr>\n",
       "    <tr>\n",
       "      <th>12740081663</th>\n",
       "      <td>-1.264983</td>\n",
       "      <td>36.821442</td>\n",
       "      <td>1</td>\n",
       "      <td>NaN</td>\n",
       "      <td>NaN</td>\n",
       "      <td>NaN</td>\n",
       "      <td>NaN</td>\n",
       "      <td>POINT (36.82144 -1.26498)</td>\n",
       "    </tr>\n",
       "    <tr>\n",
       "      <th>12740081665</th>\n",
       "      <td>-1.264711</td>\n",
       "      <td>36.821604</td>\n",
       "      <td>1</td>\n",
       "      <td>NaN</td>\n",
       "      <td>NaN</td>\n",
       "      <td>NaN</td>\n",
       "      <td>NaN</td>\n",
       "      <td>POINT (36.8216 -1.26471)</td>\n",
       "    </tr>\n",
       "    <tr>\n",
       "      <th>12740081804</th>\n",
       "      <td>-1.264241</td>\n",
       "      <td>36.822748</td>\n",
       "      <td>1</td>\n",
       "      <td>NaN</td>\n",
       "      <td>NaN</td>\n",
       "      <td>NaN</td>\n",
       "      <td>NaN</td>\n",
       "      <td>POINT (36.82275 -1.26424)</td>\n",
       "    </tr>\n",
       "    <tr>\n",
       "      <th>12740081805</th>\n",
       "      <td>-1.263786</td>\n",
       "      <td>36.823024</td>\n",
       "      <td>3</td>\n",
       "      <td>NaN</td>\n",
       "      <td>NaN</td>\n",
       "      <td>NaN</td>\n",
       "      <td>NaN</td>\n",
       "      <td>POINT (36.82302 -1.26379)</td>\n",
       "    </tr>\n",
       "  </tbody>\n",
       "</table>\n",
       "<p>73982 rows × 8 columns</p>\n",
       "</div>"
      ],
      "text/plain": [
       "                    y          x  street_count            highway   ref  \\\n",
       "osmid                                                                     \n",
       "29780021    -1.347361  36.903720             4                NaN   NaN   \n",
       "29780039    -1.344646  36.914422             3                NaN   NaN   \n",
       "29780051    -1.347919  36.909213             3  motorway_junction  23-D   \n",
       "30030168    -1.289755  36.798038             4                NaN   NaN   \n",
       "30030169    -1.290804  36.798552             3                NaN   NaN   \n",
       "...               ...        ...           ...                ...   ...   \n",
       "12740081569 -1.264256  36.820245             1                NaN   NaN   \n",
       "12740081663 -1.264983  36.821442             1                NaN   NaN   \n",
       "12740081665 -1.264711  36.821604             1                NaN   NaN   \n",
       "12740081804 -1.264241  36.822748             1                NaN   NaN   \n",
       "12740081805 -1.263786  36.823024             3                NaN   NaN   \n",
       "\n",
       "            junction railway                   geometry  \n",
       "osmid                                                    \n",
       "29780021         NaN     NaN  POINT (36.90372 -1.34736)  \n",
       "29780039         NaN     NaN  POINT (36.91442 -1.34465)  \n",
       "29780051         NaN     NaN  POINT (36.90921 -1.34792)  \n",
       "30030168         NaN     NaN  POINT (36.79804 -1.28975)  \n",
       "30030169         NaN     NaN   POINT (36.79855 -1.2908)  \n",
       "...              ...     ...                        ...  \n",
       "12740081569      NaN     NaN  POINT (36.82025 -1.26426)  \n",
       "12740081663      NaN     NaN  POINT (36.82144 -1.26498)  \n",
       "12740081665      NaN     NaN   POINT (36.8216 -1.26471)  \n",
       "12740081804      NaN     NaN  POINT (36.82275 -1.26424)  \n",
       "12740081805      NaN     NaN  POINT (36.82302 -1.26379)  \n",
       "\n",
       "[73982 rows x 8 columns]"
      ]
     },
     "execution_count": 39,
     "metadata": {},
     "output_type": "execute_result"
    }
   ],
   "source": [
    "# Count the number of edges within the buffer\n",
    "edges_within_buffer = edges[edges.intersects(buffer)]\n",
    "edges_within_buffer"
   ]
  },
  {
   "cell_type": "code",
   "execution_count": 41,
   "id": "cecbe7b6",
   "metadata": {},
   "outputs": [
    {
     "name": "stdout",
     "output_type": "stream",
     "text": [
      "Number of edges within the buffer: 73982\n"
     ]
    }
   ],
   "source": [
    "# count the number of elements in the edges_within_buffer\n",
    "num_edges_within_buffer = len(edges_within_buffer)\n",
    "print(f\"Number of edges within the buffer: {num_edges_within_buffer}\")"
   ]
  },
  {
   "cell_type": "code",
   "execution_count": 42,
   "id": "6ef72921",
   "metadata": {},
   "outputs": [
    {
     "data": {
      "image/png": "[encoded data removed]",
      "text/plain": [
       "<Figure size 1000x1000 with 1 Axes>"
      ]
     },
     "metadata": {},
     "output_type": "display_data"
    }
   ],
   "source": [
    "# Plot everything\n",
    "fig, ax = plt.subplots(figsize=(10, 10))\n",
    "edges.plot(ax=ax, color='gray', linewidth=0.5)\n",
    "gdf_buffer.plot(ax=ax, color='lightblue', alpha=0.3)\n",
    "gdf_centroid.plot(ax=ax, color='red', markersize=30)\n",
    "plt.title(\"Nairobi Road Network with Centroid & 3km Buffer\")\n",
    "plt.show()"
   ]
  },
  {
   "cell_type": "code",
   "execution_count": null,
   "id": "16ef4655",
   "metadata": {},
   "outputs": [],
   "source": []
  }
 ],
 "metadata": {
  "kernelspec": {
   "display_name": ".venv",
   "language": "python",
   "name": "python3"
  },
  "language_info": {
   "codemirror_mode": {
    "name": "ipython",
    "version": 3
   },
   "file_extension": ".py",
   "mimetype": "text/x-python",
   "name": "python",
   "nbconvert_exporter": "python",
   "pygments_lexer": "ipython3",
   "version": "3.11.6"
  }
 },
 "nbformat": 4,
 "nbformat_minor": 5
}
