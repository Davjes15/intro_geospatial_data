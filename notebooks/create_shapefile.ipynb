{
 "cells": [
  {
   "cell_type": "code",
   "execution_count": 3,
   "id": "55d2a463",
   "metadata": {},
   "outputs": [],
   "source": [
    "import geopandas as gpd\n",
    "from shapely.geometry import Point\n",
    "import os"
   ]
  },
  {
   "cell_type": "code",
   "execution_count": 4,
   "id": "c2a7587d",
   "metadata": {},
   "outputs": [],
   "source": [
    "# Step 1: Define your data\n",
    "city_names = ['Nairobi', 'Mombasa', 'Kisumu']\n",
    "populations = [4397073, 1208333, 610082]\n",
    "coordinates = [(36.8219, -1.2921), (39.6682, -4.0435), (34.7594, -0.0917)]  # (lon, lat)"
   ]
  },
  {
   "cell_type": "code",
   "execution_count": 5,
   "id": "934e6713",
   "metadata": {},
   "outputs": [],
   "source": [
    "# Step 2: Create a point geometry for each city\n",
    "geometry = [Point(lon, lat) for lon, lat in coordinates]"
   ]
  },
  {
   "cell_type": "code",
   "execution_count": 6,
   "id": "6421431f",
   "metadata": {},
   "outputs": [
    {
     "data": {
      "text/plain": [
       "[<POINT (36.822 -1.292)>, <POINT (39.668 -4.044)>, <POINT (34.759 -0.092)>]"
      ]
     },
     "execution_count": 6,
     "metadata": {},
     "output_type": "execute_result"
    }
   ],
   "source": [
    "geometry"
   ]
  },
  {
   "cell_type": "code",
   "execution_count": 7,
   "id": "0372ca65",
   "metadata": {},
   "outputs": [
    {
     "data": {
      "text/plain": [
       "shapely.geometry.point.Point"
      ]
     },
     "execution_count": 7,
     "metadata": {},
     "output_type": "execute_result"
    }
   ],
   "source": [
    "type(geometry[0])"
   ]
  },
  {
   "cell_type": "code",
   "execution_count": 8,
   "id": "1ccd7ef1",
   "metadata": {},
   "outputs": [],
   "source": [
    "# Step 3: Create a GeoDataFrame\n",
    "gdf = gpd.GeoDataFrame({\n",
    "    'City': city_names,\n",
    "    'Population': populations,\n",
    "    'geometry': geometry\n",
    "})"
   ]
  },
  {
   "cell_type": "code",
   "execution_count": 10,
   "id": "bbddd09d",
   "metadata": {},
   "outputs": [
    {
     "data": {
      "text/html": [
       "<div>\n",
       "<style scoped>\n",
       "    .dataframe tbody tr th:only-of-type {\n",
       "        vertical-align: middle;\n",
       "    }\n",
       "\n",
       "    .dataframe tbody tr th {\n",
       "        vertical-align: top;\n",
       "    }\n",
       "\n",
       "    .dataframe thead th {\n",
       "        text-align: right;\n",
       "    }\n",
       "</style>\n",
       "<table border=\"1\" class=\"dataframe\">\n",
       "  <thead>\n",
       "    <tr style=\"text-align: right;\">\n",
       "      <th></th>\n",
       "      <th>City</th>\n",
       "      <th>Population</th>\n",
       "      <th>geometry</th>\n",
       "    </tr>\n",
       "  </thead>\n",
       "  <tbody>\n",
       "    <tr>\n",
       "      <th>0</th>\n",
       "      <td>Nairobi</td>\n",
       "      <td>4397073</td>\n",
       "      <td>POINT (36.8219 -1.2921)</td>\n",
       "    </tr>\n",
       "    <tr>\n",
       "      <th>1</th>\n",
       "      <td>Mombasa</td>\n",
       "      <td>1208333</td>\n",
       "      <td>POINT (39.6682 -4.0435)</td>\n",
       "    </tr>\n",
       "    <tr>\n",
       "      <th>2</th>\n",
       "      <td>Kisumu</td>\n",
       "      <td>610082</td>\n",
       "      <td>POINT (34.7594 -0.0917)</td>\n",
       "    </tr>\n",
       "  </tbody>\n",
       "</table>\n",
       "</div>"
      ],
      "text/plain": [
       "      City  Population                 geometry\n",
       "0  Nairobi     4397073  POINT (36.8219 -1.2921)\n",
       "1  Mombasa     1208333  POINT (39.6682 -4.0435)\n",
       "2   Kisumu      610082  POINT (34.7594 -0.0917)"
      ]
     },
     "execution_count": 10,
     "metadata": {},
     "output_type": "execute_result"
    }
   ],
   "source": [
    "gdf"
   ]
  },
  {
   "cell_type": "code",
   "execution_count": 11,
   "id": "2b48b49f",
   "metadata": {},
   "outputs": [],
   "source": [
    "gdf.crs"
   ]
  },
  {
   "cell_type": "code",
   "execution_count": 12,
   "id": "061116e9",
   "metadata": {},
   "outputs": [
    {
     "data": {
      "text/html": [
       "<div>\n",
       "<style scoped>\n",
       "    .dataframe tbody tr th:only-of-type {\n",
       "        vertical-align: middle;\n",
       "    }\n",
       "\n",
       "    .dataframe tbody tr th {\n",
       "        vertical-align: top;\n",
       "    }\n",
       "\n",
       "    .dataframe thead th {\n",
       "        text-align: right;\n",
       "    }\n",
       "</style>\n",
       "<table border=\"1\" class=\"dataframe\">\n",
       "  <thead>\n",
       "    <tr style=\"text-align: right;\">\n",
       "      <th></th>\n",
       "      <th>City</th>\n",
       "      <th>Population</th>\n",
       "      <th>geometry</th>\n",
       "    </tr>\n",
       "  </thead>\n",
       "  <tbody>\n",
       "    <tr>\n",
       "      <th>0</th>\n",
       "      <td>Nairobi</td>\n",
       "      <td>4397073</td>\n",
       "      <td>POINT (36.8219 -1.2921)</td>\n",
       "    </tr>\n",
       "    <tr>\n",
       "      <th>1</th>\n",
       "      <td>Mombasa</td>\n",
       "      <td>1208333</td>\n",
       "      <td>POINT (39.6682 -4.0435)</td>\n",
       "    </tr>\n",
       "    <tr>\n",
       "      <th>2</th>\n",
       "      <td>Kisumu</td>\n",
       "      <td>610082</td>\n",
       "      <td>POINT (34.7594 -0.0917)</td>\n",
       "    </tr>\n",
       "  </tbody>\n",
       "</table>\n",
       "</div>"
      ],
      "text/plain": [
       "      City  Population                 geometry\n",
       "0  Nairobi     4397073  POINT (36.8219 -1.2921)\n",
       "1  Mombasa     1208333  POINT (39.6682 -4.0435)\n",
       "2   Kisumu      610082  POINT (34.7594 -0.0917)"
      ]
     },
     "execution_count": 12,
     "metadata": {},
     "output_type": "execute_result"
    }
   ],
   "source": [
    "# Step 4: Set the coordinate reference system (CRS)\n",
    "gdf.set_crs(epsg=4326, inplace=True)  # WGS 84"
   ]
  },
  {
   "cell_type": "code",
   "execution_count": 13,
   "id": "6c6645a6",
   "metadata": {},
   "outputs": [
    {
     "data": {
      "text/plain": [
       "geopandas.geodataframe.GeoDataFrame"
      ]
     },
     "execution_count": 13,
     "metadata": {},
     "output_type": "execute_result"
    }
   ],
   "source": [
    "type(gdf)"
   ]
  },
  {
   "cell_type": "code",
   "execution_count": 14,
   "id": "593a9ad8",
   "metadata": {},
   "outputs": [
    {
     "data": {
      "text/plain": [
       "<Geographic 2D CRS: EPSG:4326>\n",
       "Name: WGS 84\n",
       "Axis Info [ellipsoidal]:\n",
       "- Lat[north]: Geodetic latitude (degree)\n",
       "- Lon[east]: Geodetic longitude (degree)\n",
       "Area of Use:\n",
       "- name: World.\n",
       "- bounds: (-180.0, -90.0, 180.0, 90.0)\n",
       "Datum: World Geodetic System 1984 ensemble\n",
       "- Ellipsoid: WGS 84\n",
       "- Prime Meridian: Greenwich"
      ]
     },
     "execution_count": 14,
     "metadata": {},
     "output_type": "execute_result"
    }
   ],
   "source": [
    "gdf.crs"
   ]
  },
  {
   "cell_type": "code",
   "execution_count": 17,
   "id": "b3b12442",
   "metadata": {},
   "outputs": [
    {
     "name": "stdout",
     "output_type": "stream",
     "text": [
      "✅ Shapefile created at: data/output/kenyan_cities.shp\n"
     ]
    }
   ],
   "source": [
    "# Step 5: Save the GeoDataFrame to a shapefile\n",
    "output_dir = 'data/output'\n",
    "os.makedirs(output_dir, exist_ok=True)\n",
    "output_path = os.path.join(output_dir, 'cities.shp')\n",
    "gdf.to_file(output_path, driver='ESRI Shapefile')\n",
    "print(\"✅ Shapefile created at: data/output/kenyan_cities.shp\")"
   ]
  },
  {
   "cell_type": "code",
   "execution_count": 22,
   "id": "681ef1bd",
   "metadata": {},
   "outputs": [
    {
     "data": {
      "image/png": "[encoded data removed]",
      "text/plain": [
       "<Figure size 640x480 with 2 Axes>"
      ]
     },
     "metadata": {},
     "output_type": "display_data"
    }
   ],
   "source": [
    "# Plot the GeoDataFrame\n",
    "import matplotlib.pyplot as plt\n",
    "gdf.plot(column=\"Population\", cmap=\"YlOrRd\", legend=True, markersize=100)\n",
    "plt.title('Kenyan Cities')\n",
    "plt.xlabel('Longitude')\n",
    "plt.ylabel('Latitude')\n",
    "plt.show()"
   ]
  },
  {
   "cell_type": "code",
   "execution_count": 27,
   "id": "cf57945e",
   "metadata": {},
   "outputs": [
    {
     "data": {
      "image/png": "[encoded data removed]",
      "text/plain": [
       "<Figure size 640x480 with 1 Axes>"
      ]
     },
     "metadata": {},
     "output_type": "display_data"
    }
   ],
   "source": [
    "gdf.geometry.plot(color='blue', alpha=0.5, edgecolor='k')\n",
    "# gdf.plot(color='blue', alpha=0.5, edgecolor='k') # both options work\n",
    "plt.title('Kenyan Cities')\n",
    "plt.xlabel('Longitude')\n",
    "plt.ylabel('Latitude')\n",
    "plt.show()"
   ]
  },
  {
   "cell_type": "code",
   "execution_count": 28,
   "id": "6f54a601",
   "metadata": {},
   "outputs": [
    {
     "data": {
      "image/png": "[encoded data removed]",
      "text/plain": [
       "<Figure size 800x600 with 1 Axes>"
      ]
     },
     "metadata": {},
     "output_type": "display_data"
    }
   ],
   "source": [
    "fig, ax = plt.subplots(figsize=(8, 6))\n",
    "\n",
    "# Plot the points\n",
    "gdf.plot(ax=ax, color='green', markersize=100)\n",
    "\n",
    "# Add labels\n",
    "for idx, row in gdf.iterrows():\n",
    "    ax.annotate(row['City'], xy=(row.geometry.x, row.geometry.y), xytext=(3, 3), textcoords=\"offset points\")\n",
    "\n",
    "plt.title(\"Kenyan Cities with Labels\")\n",
    "plt.xlabel(\"Longitude\")\n",
    "plt.ylabel(\"Latitude\")\n",
    "plt.grid(True)\n",
    "plt.show()"
   ]
  },
  {
   "cell_type": "code",
   "execution_count": null,
   "id": "6813e47a",
   "metadata": {},
   "outputs": [],
   "source": []
  }
 ],
 "metadata": {
  "kernelspec": {
   "display_name": ".venv",
   "language": "python",
   "name": "python3"
  },
  "language_info": {
   "codemirror_mode": {
    "name": "ipython",
    "version": 3
   },
   "file_extension": ".py",
   "mimetype": "text/x-python",
   "name": "python",
   "nbconvert_exporter": "python",
   "pygments_lexer": "ipython3",
   "version": "3.11.6"
  }
 },
 "nbformat": 4,
 "nbformat_minor": 5
}
