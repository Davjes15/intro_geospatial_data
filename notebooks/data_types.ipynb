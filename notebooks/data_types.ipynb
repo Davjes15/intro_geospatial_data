{
 "cells": [
  {
   "cell_type": "code",
   "execution_count": 3,
   "id": "419c373e",
   "metadata": {},
   "outputs": [],
   "source": [
    "import geopandas as gpd\n",
    "from shapely.geometry import Point, LineString, Polygon\n",
    "import pandas as pd\n",
    "import numpy as np\n",
    "import matplotlib.pyplot as plt"
   ]
  },
  {
   "cell_type": "markdown",
   "id": "aef9213b",
   "metadata": {},
   "source": [
    "### Vector Data Example"
   ]
  },
  {
   "cell_type": "code",
   "execution_count": 23,
   "id": "c66fdf5c",
   "metadata": {},
   "outputs": [],
   "source": [
    "# 1. Create dummy vector geometries\n",
    "point = Point(36.8219, -1.2921)  # e.g. Nairobi\n",
    "line = LineString([(36.82, -1.29), (36.83, -1.30), (36.84, -1.31)])  # a road\n",
    "polygon = Polygon([(36.80, -1.28), (36.85, -1.28), (36.85, -1.33), (36.80, -1.33)])  # an area (like a park)"
   ]
  },
  {
   "cell_type": "code",
   "execution_count": 24,
   "id": "3bd759d0",
   "metadata": {},
   "outputs": [],
   "source": [
    "# 2. Create GeoDataFrames\n",
    "gdf_points = gpd.GeoDataFrame({'name': ['Nairobi']}, geometry=[point])\n",
    "gdf_lines = gpd.GeoDataFrame({'name': ['Sample Road']}, geometry=[line])\n",
    "gdf_polygons = gpd.GeoDataFrame({'name': ['Sample Park']}, geometry=[polygon])"
   ]
  },
  {
   "cell_type": "code",
   "execution_count": 25,
   "id": "0a47a502",
   "metadata": {},
   "outputs": [
    {
     "data": {
      "text/html": [
       "<div>\n",
       "<style scoped>\n",
       "    .dataframe tbody tr th:only-of-type {\n",
       "        vertical-align: middle;\n",
       "    }\n",
       "\n",
       "    .dataframe tbody tr th {\n",
       "        vertical-align: top;\n",
       "    }\n",
       "\n",
       "    .dataframe thead th {\n",
       "        text-align: right;\n",
       "    }\n",
       "</style>\n",
       "<table border=\"1\" class=\"dataframe\">\n",
       "  <thead>\n",
       "    <tr style=\"text-align: right;\">\n",
       "      <th></th>\n",
       "      <th>name</th>\n",
       "      <th>geometry</th>\n",
       "    </tr>\n",
       "  </thead>\n",
       "  <tbody>\n",
       "    <tr>\n",
       "      <th>0</th>\n",
       "      <td>Sample Park</td>\n",
       "      <td>POLYGON ((36.8 -1.28, 36.85 -1.28, 36.85 -1.33...</td>\n",
       "    </tr>\n",
       "  </tbody>\n",
       "</table>\n",
       "</div>"
      ],
      "text/plain": [
       "          name                                           geometry\n",
       "0  Sample Park  POLYGON ((36.8 -1.28, 36.85 -1.28, 36.85 -1.33..."
      ]
     },
     "execution_count": 25,
     "metadata": {},
     "output_type": "execute_result"
    }
   ],
   "source": [
    "gdf_polygons"
   ]
  },
  {
   "cell_type": "code",
   "execution_count": 26,
   "id": "1887f2fc",
   "metadata": {},
   "outputs": [
    {
     "data": {
      "text/html": [
       "<div>\n",
       "<style scoped>\n",
       "    .dataframe tbody tr th:only-of-type {\n",
       "        vertical-align: middle;\n",
       "    }\n",
       "\n",
       "    .dataframe tbody tr th {\n",
       "        vertical-align: top;\n",
       "    }\n",
       "\n",
       "    .dataframe thead th {\n",
       "        text-align: right;\n",
       "    }\n",
       "</style>\n",
       "<table border=\"1\" class=\"dataframe\">\n",
       "  <thead>\n",
       "    <tr style=\"text-align: right;\">\n",
       "      <th></th>\n",
       "      <th>name</th>\n",
       "      <th>geometry</th>\n",
       "    </tr>\n",
       "  </thead>\n",
       "  <tbody>\n",
       "    <tr>\n",
       "      <th>0</th>\n",
       "      <td>Sample Road</td>\n",
       "      <td>LINESTRING (36.82 -1.29, 36.83 -1.3, 36.84 -1.31)</td>\n",
       "    </tr>\n",
       "  </tbody>\n",
       "</table>\n",
       "</div>"
      ],
      "text/plain": [
       "          name                                           geometry\n",
       "0  Sample Road  LINESTRING (36.82 -1.29, 36.83 -1.3, 36.84 -1.31)"
      ]
     },
     "execution_count": 26,
     "metadata": {},
     "output_type": "execute_result"
    }
   ],
   "source": [
    "gdf_lines"
   ]
  },
  {
   "cell_type": "code",
   "execution_count": 27,
   "id": "da381734",
   "metadata": {},
   "outputs": [
    {
     "data": {
      "text/html": [
       "<div>\n",
       "<style scoped>\n",
       "    .dataframe tbody tr th:only-of-type {\n",
       "        vertical-align: middle;\n",
       "    }\n",
       "\n",
       "    .dataframe tbody tr th {\n",
       "        vertical-align: top;\n",
       "    }\n",
       "\n",
       "    .dataframe thead th {\n",
       "        text-align: right;\n",
       "    }\n",
       "</style>\n",
       "<table border=\"1\" class=\"dataframe\">\n",
       "  <thead>\n",
       "    <tr style=\"text-align: right;\">\n",
       "      <th></th>\n",
       "      <th>name</th>\n",
       "      <th>geometry</th>\n",
       "    </tr>\n",
       "  </thead>\n",
       "  <tbody>\n",
       "    <tr>\n",
       "      <th>0</th>\n",
       "      <td>Nairobi</td>\n",
       "      <td>POINT (36.8219 -1.2921)</td>\n",
       "    </tr>\n",
       "  </tbody>\n",
       "</table>\n",
       "</div>"
      ],
      "text/plain": [
       "      name                 geometry\n",
       "0  Nairobi  POINT (36.8219 -1.2921)"
      ]
     },
     "execution_count": 27,
     "metadata": {},
     "output_type": "execute_result"
    }
   ],
   "source": [
    "gdf_points"
   ]
  },
  {
   "cell_type": "code",
   "execution_count": 28,
   "id": "73ea73f3",
   "metadata": {},
   "outputs": [
    {
     "data": {
      "image/png": "[encoded data removed]",
      "text/plain": [
       "<Figure size 640x480 with 1 Axes>"
      ]
     },
     "metadata": {},
     "output_type": "display_data"
    }
   ],
   "source": [
    "# Plotting the geometries\n",
    "fig, ax = plt.subplots()\n",
    "gdf_polygons.plot(ax=ax, color='lightblue', edgecolor='black')\n",
    "gdf_lines.plot(ax=ax, color='red')\n",
    "gdf_points.plot(ax=ax, color='green', markersize=100)\n",
    "plt.title('Sample Geometries')\n",
    "plt.xlabel('Longitude')\n",
    "plt.ylabel('Latitude')\n",
    "plt.legend(['Polygon', 'Line', 'Point'])\n",
    "plt.show()"
   ]
  },
  {
   "cell_type": "markdown",
   "id": "21fbc7da",
   "metadata": {},
   "source": [
    "### Raster Data Example"
   ]
  },
  {
   "cell_type": "code",
   "execution_count": 29,
   "id": "7da89398",
   "metadata": {},
   "outputs": [],
   "source": [
    "# 1. Create a dummy 2D array (10x10 grid)\n",
    "raster = np.random.rand(10, 10) * 100  # values between 0 and 100 (e.g., temperature or elevation)"
   ]
  },
  {
   "cell_type": "code",
   "execution_count": 30,
   "id": "1678d09a",
   "metadata": {},
   "outputs": [
    {
     "data": {
      "text/plain": [
       "array([[82.72370857, 15.78393411, 98.17389955, 63.69968235, 12.81514842,\n",
       "        66.25143245, 26.97216756, 57.80240292, 40.05460968, 69.57751012],\n",
       "       [94.58476486, 55.40209246, 75.6665301 , 66.4282648 , 96.93717999,\n",
       "        46.55906709, 38.86959912, 99.87666183, 44.76891649, 94.87071418],\n",
       "       [28.31581515, 40.05624347,  9.21931536, 80.04362577,  2.02193328,\n",
       "        74.00404154, 12.08958418, 72.12762872,  9.05500411, 87.91999315],\n",
       "       [76.66000534, 13.29900166, 80.24766109,  5.87522042, 36.04311835,\n",
       "        66.69584641, 75.94768443, 74.14074185, 91.89166395, 50.8401503 ],\n",
       "       [74.52331495, 80.59904314, 31.57044793, 36.40041598, 39.34705887,\n",
       "        47.00897313, 95.05033553, 21.25990575, 88.6244921 , 31.95146425],\n",
       "       [43.48849129, 50.52854067, 14.31301063, 80.97412984,  8.26646746,\n",
       "        49.8883797 , 96.15954776, 89.76131505,  3.71599818, 51.28749202],\n",
       "       [95.72093769, 92.07469449, 61.68918482, 56.21909752, 37.94549466,\n",
       "        73.05087157, 47.1465945 , 51.02219352, 87.857802  , 19.77555662],\n",
       "       [85.35763819, 78.8934184 , 18.70560249, 86.11687049, 18.65384623,\n",
       "        25.72470984,  5.99764977, 80.71829226, 78.13454947, 10.75801879],\n",
       "       [33.70709195, 35.37895396, 24.57351474,  4.32231359, 32.98527831,\n",
       "        57.47736622, 83.90292816, 15.87699954, 32.29904405, 86.03686578],\n",
       "       [16.38760741, 41.00744821, 64.86316714, 91.95229105, 96.72593261,\n",
       "        89.05892446, 37.18950642, 98.11939024, 67.47978667,  7.06123604]])"
      ]
     },
     "execution_count": 30,
     "metadata": {},
     "output_type": "execute_result"
    }
   ],
   "source": [
    "raster"
   ]
  },
  {
   "cell_type": "code",
   "execution_count": 31,
   "id": "118f8659",
   "metadata": {},
   "outputs": [
    {
     "data": {
      "text/plain": [
       "(10, 10)"
      ]
     },
     "execution_count": 31,
     "metadata": {},
     "output_type": "execute_result"
    }
   ],
   "source": [
    "raster.shape"
   ]
  },
  {
   "cell_type": "code",
   "execution_count": 36,
   "id": "ba2f547a",
   "metadata": {},
   "outputs": [
    {
     "data": {
      "image/png": "[encoded data removed]",
      "text/plain": [
       "<Figure size 640x480 with 2 Axes>"
      ]
     },
     "metadata": {},
     "output_type": "display_data"
    }
   ],
   "source": [
    "# Plotting the raster data\n",
    "plt.imshow(raster, cmap='terrain', origin='upper', interpolation='nearest')\n",
    "plt.colorbar(label='Value (e.g., temperature)')\n",
    "plt.title('Dummy Raster Data')\n",
    "plt.xlabel('X coordinate')\n",
    "plt.ylabel('Y coordinate')\n",
    "plt.show()"
   ]
  },
  {
   "cell_type": "markdown",
   "id": "a09b124a",
   "metadata": {},
   "source": [
    "### Convert Raster Grid to Vector Points"
   ]
  },
  {
   "cell_type": "code",
   "execution_count": 37,
   "id": "1d52de30",
   "metadata": {},
   "outputs": [],
   "source": [
    "rows, cols = raster.shape\n",
    "points = []\n",
    "values = []"
   ]
  },
  {
   "cell_type": "code",
   "execution_count": 39,
   "id": "4dffb414",
   "metadata": {},
   "outputs": [
    {
     "data": {
      "text/plain": [
       "(10, 10)"
      ]
     },
     "execution_count": 39,
     "metadata": {},
     "output_type": "execute_result"
    }
   ],
   "source": [
    "raster.shape"
   ]
  },
  {
   "cell_type": "code",
   "execution_count": 40,
   "id": "2e449329",
   "metadata": {},
   "outputs": [
    {
     "data": {
      "text/html": [
       "<div>\n",
       "<style scoped>\n",
       "    .dataframe tbody tr th:only-of-type {\n",
       "        vertical-align: middle;\n",
       "    }\n",
       "\n",
       "    .dataframe tbody tr th {\n",
       "        vertical-align: top;\n",
       "    }\n",
       "\n",
       "    .dataframe thead th {\n",
       "        text-align: right;\n",
       "    }\n",
       "</style>\n",
       "<table border=\"1\" class=\"dataframe\">\n",
       "  <thead>\n",
       "    <tr style=\"text-align: right;\">\n",
       "      <th></th>\n",
       "      <th>value</th>\n",
       "      <th>geometry</th>\n",
       "    </tr>\n",
       "  </thead>\n",
       "  <tbody>\n",
       "    <tr>\n",
       "      <th>0</th>\n",
       "      <td>82.723709</td>\n",
       "      <td>POINT (0 0)</td>\n",
       "    </tr>\n",
       "    <tr>\n",
       "      <th>1</th>\n",
       "      <td>15.783934</td>\n",
       "      <td>POINT (1 0)</td>\n",
       "    </tr>\n",
       "    <tr>\n",
       "      <th>2</th>\n",
       "      <td>98.173900</td>\n",
       "      <td>POINT (2 0)</td>\n",
       "    </tr>\n",
       "    <tr>\n",
       "      <th>3</th>\n",
       "      <td>63.699682</td>\n",
       "      <td>POINT (3 0)</td>\n",
       "    </tr>\n",
       "    <tr>\n",
       "      <th>4</th>\n",
       "      <td>12.815148</td>\n",
       "      <td>POINT (4 0)</td>\n",
       "    </tr>\n",
       "  </tbody>\n",
       "</table>\n",
       "</div>"
      ],
      "text/plain": [
       "       value     geometry\n",
       "0  82.723709  POINT (0 0)\n",
       "1  15.783934  POINT (1 0)\n",
       "2  98.173900  POINT (2 0)\n",
       "3  63.699682  POINT (3 0)\n",
       "4  12.815148  POINT (4 0)"
      ]
     },
     "execution_count": 40,
     "metadata": {},
     "output_type": "execute_result"
    }
   ],
   "source": [
    "for i in range(rows):\n",
    "    for j in range(cols):\n",
    "        points.append(Point(j, i))  # (x, y) coordinates\n",
    "        values.append(raster[i, j])  # raster value\n",
    "# Create a DataFrame from the points and values\n",
    "gdf_raster_points = gpd.GeoDataFrame({'value': values}, geometry=points)\n",
    "gdf_raster_points.head()"
   ]
  },
  {
   "cell_type": "code",
   "execution_count": 42,
   "id": "037669a1",
   "metadata": {},
   "outputs": [
    {
     "data": {
      "image/png": "[encoded data removed]",
      "text/plain": [
       "<Figure size 640x480 with 2 Axes>"
      ]
     },
     "metadata": {},
     "output_type": "display_data"
    }
   ],
   "source": [
    "# Plotting the raster data with points\n",
    "gdf_raster_points.plot(column='value', cmap='terrain', legend=True, markersize=25)\n",
    "plt.title(\"Raster Converted to Vector Points\")\n",
    "plt.show()"
   ]
  },
  {
   "cell_type": "code",
   "execution_count": null,
   "id": "481c1396",
   "metadata": {},
   "outputs": [],
   "source": []
  }
 ],
 "metadata": {
  "kernelspec": {
   "display_name": ".venv",
   "language": "python",
   "name": "python3"
  },
  "language_info": {
   "codemirror_mode": {
    "name": "ipython",
    "version": 3
   },
   "file_extension": ".py",
   "mimetype": "text/x-python",
   "name": "python",
   "nbconvert_exporter": "python",
   "pygments_lexer": "ipython3",
   "version": "3.11.6"
  }
 },
 "nbformat": 4,
 "nbformat_minor": 5
}
